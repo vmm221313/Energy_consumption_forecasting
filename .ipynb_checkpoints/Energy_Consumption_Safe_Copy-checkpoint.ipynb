{
 "cells": [
  {
   "cell_type": "code",
   "execution_count": 1,
   "metadata": {},
   "outputs": [],
   "source": [
    "import os\n",
    "import numpy as np\n",
    "import pandas as po\n",
    "from tqdm import tqdm_notebook\n",
    "import matplotlib.pyplot as plt"
   ]
  },
  {
   "cell_type": "code",
   "execution_count": 2,
   "metadata": {},
   "outputs": [],
   "source": [
    "from sklearn.metrics import r2_score\n",
    "from sklearn.metrics import mean_squared_error"
   ]
  },
  {
   "cell_type": "code",
   "execution_count": 3,
   "metadata": {},
   "outputs": [],
   "source": [
    "import torch\n",
    "import torch.nn as nn\n",
    "import torch.optim as optim\n",
    "from torch.utils.data import DataLoader, TensorDataset"
   ]
  },
  {
   "cell_type": "code",
   "execution_count": 4,
   "metadata": {},
   "outputs": [],
   "source": [
    "from customLSTM import baseLSTM\n",
    "from trainer import train\n",
    "#from tester import test"
   ]
  },
  {
   "cell_type": "code",
   "execution_count": 5,
   "metadata": {},
   "outputs": [
    {
     "name": "stdout",
     "output_type": "stream",
     "text": [
      "Using device - cpu\n"
     ]
    }
   ],
   "source": [
    "device = torch.device('cuda:0' if torch.cuda.is_available() else 'cpu')\n",
    "print('Using device - {}'.format(device))"
   ]
  },
  {
   "cell_type": "code",
   "execution_count": 6,
   "metadata": {},
   "outputs": [
    {
     "data": {
      "text/html": [
       "<div>\n",
       "<style scoped>\n",
       "    .dataframe tbody tr th:only-of-type {\n",
       "        vertical-align: middle;\n",
       "    }\n",
       "\n",
       "    .dataframe tbody tr th {\n",
       "        vertical-align: top;\n",
       "    }\n",
       "\n",
       "    .dataframe thead th {\n",
       "        text-align: right;\n",
       "    }\n",
       "</style>\n",
       "<table border=\"1\" class=\"dataframe\">\n",
       "  <thead>\n",
       "    <tr style=\"text-align: right;\">\n",
       "      <th></th>\n",
       "      <th>Time</th>\n",
       "      <th>dayofyear</th>\n",
       "      <th>month</th>\n",
       "      <th>dayofweek</th>\n",
       "      <th>hourofday</th>\n",
       "      <th>minuteofday</th>\n",
       "      <th>daytype</th>\n",
       "      <th>season</th>\n",
       "      <th>Energy</th>\n",
       "    </tr>\n",
       "  </thead>\n",
       "  <tbody>\n",
       "    <tr>\n",
       "      <th>0</th>\n",
       "      <td>1/1/2018 0:00</td>\n",
       "      <td>1</td>\n",
       "      <td>1</td>\n",
       "      <td>1</td>\n",
       "      <td>0</td>\n",
       "      <td>0</td>\n",
       "      <td>0</td>\n",
       "      <td>1</td>\n",
       "      <td>0.228003</td>\n",
       "    </tr>\n",
       "    <tr>\n",
       "      <th>1</th>\n",
       "      <td>1/1/2018 0:15</td>\n",
       "      <td>1</td>\n",
       "      <td>1</td>\n",
       "      <td>1</td>\n",
       "      <td>0</td>\n",
       "      <td>15</td>\n",
       "      <td>0</td>\n",
       "      <td>1</td>\n",
       "      <td>0.228003</td>\n",
       "    </tr>\n",
       "    <tr>\n",
       "      <th>2</th>\n",
       "      <td>1/1/2018 0:30</td>\n",
       "      <td>1</td>\n",
       "      <td>1</td>\n",
       "      <td>1</td>\n",
       "      <td>0</td>\n",
       "      <td>30</td>\n",
       "      <td>0</td>\n",
       "      <td>1</td>\n",
       "      <td>0.228003</td>\n",
       "    </tr>\n",
       "    <tr>\n",
       "      <th>3</th>\n",
       "      <td>1/1/2018 0:45</td>\n",
       "      <td>1</td>\n",
       "      <td>1</td>\n",
       "      <td>1</td>\n",
       "      <td>0</td>\n",
       "      <td>45</td>\n",
       "      <td>0</td>\n",
       "      <td>1</td>\n",
       "      <td>0.228003</td>\n",
       "    </tr>\n",
       "    <tr>\n",
       "      <th>4</th>\n",
       "      <td>1/1/2018 1:00</td>\n",
       "      <td>1</td>\n",
       "      <td>1</td>\n",
       "      <td>1</td>\n",
       "      <td>1</td>\n",
       "      <td>0</td>\n",
       "      <td>0</td>\n",
       "      <td>1</td>\n",
       "      <td>0.228003</td>\n",
       "    </tr>\n",
       "  </tbody>\n",
       "</table>\n",
       "</div>"
      ],
      "text/plain": [
       "            Time  dayofyear  month  dayofweek  hourofday  minuteofday  \\\n",
       "0  1/1/2018 0:00          1      1          1          0            0   \n",
       "1  1/1/2018 0:15          1      1          1          0           15   \n",
       "2  1/1/2018 0:30          1      1          1          0           30   \n",
       "3  1/1/2018 0:45          1      1          1          0           45   \n",
       "4  1/1/2018 1:00          1      1          1          1            0   \n",
       "\n",
       "   daytype  season    Energy  \n",
       "0        0       1  0.228003  \n",
       "1        0       1  0.228003  \n",
       "2        0       1  0.228003  \n",
       "3        0       1  0.228003  \n",
       "4        0       1  0.228003  "
      ]
     },
     "execution_count": 6,
     "metadata": {},
     "output_type": "execute_result"
    }
   ],
   "source": [
    "df = po.read_csv('data/Normalized 2018.csv')\n",
    "df.head()"
   ]
  },
  {
   "cell_type": "markdown",
   "metadata": {},
   "source": [
    "## Task 1: Train on daily data\n",
    "### Train on 11 months and predict the consumption for the 12th month\n",
    "Since there is considerable seasonality in this data, I do not expect this prediction to be very accurate but it will be good to establish a baseline"
   ]
  },
  {
   "cell_type": "code",
   "execution_count": 7,
   "metadata": {},
   "outputs": [
    {
     "data": {
      "text/plain": [
       "[<matplotlib.lines.Line2D at 0x1a27dfbb00>]"
      ]
     },
     "execution_count": 7,
     "metadata": {},
     "output_type": "execute_result"
    },
    {
     "data": {
      "image/png": "[encoded data removed]",
      "text/plain": [
       "<Figure size 432x288 with 1 Axes>"
      ]
     },
     "metadata": {
      "needs_background": "light"
     },
     "output_type": "display_data"
    }
   ],
   "source": [
    "#Plotting daily energy consumption\n",
    "daily_consumption = df.groupby('dayofyear')['Energy'].sum()\n",
    "plt.plot(daily_consumption)\n",
    "#x_axis = 'day_of_year',\n",
    "#y_axis = 'energy_consumed'"
   ]
  },
  {
   "cell_type": "code",
   "execution_count": 8,
   "metadata": {},
   "outputs": [
    {
     "data": {
      "text/html": [
       "<div>\n",
       "<style scoped>\n",
       "    .dataframe tbody tr th:only-of-type {\n",
       "        vertical-align: middle;\n",
       "    }\n",
       "\n",
       "    .dataframe tbody tr th {\n",
       "        vertical-align: top;\n",
       "    }\n",
       "\n",
       "    .dataframe thead th {\n",
       "        text-align: right;\n",
       "    }\n",
       "</style>\n",
       "<table border=\"1\" class=\"dataframe\">\n",
       "  <thead>\n",
       "    <tr style=\"text-align: right;\">\n",
       "      <th></th>\n",
       "      <th>dayofyear</th>\n",
       "      <th>month</th>\n",
       "      <th>dayofweek</th>\n",
       "      <th>daytype</th>\n",
       "      <th>season</th>\n",
       "      <th>Energy</th>\n",
       "    </tr>\n",
       "  </thead>\n",
       "  <tbody>\n",
       "    <tr>\n",
       "      <th>0</th>\n",
       "      <td>1.0</td>\n",
       "      <td>1.0</td>\n",
       "      <td>1.0</td>\n",
       "      <td>0.0</td>\n",
       "      <td>1.0</td>\n",
       "      <td>21.888271</td>\n",
       "    </tr>\n",
       "    <tr>\n",
       "      <th>1</th>\n",
       "      <td>2.0</td>\n",
       "      <td>1.0</td>\n",
       "      <td>2.0</td>\n",
       "      <td>0.0</td>\n",
       "      <td>1.0</td>\n",
       "      <td>24.368710</td>\n",
       "    </tr>\n",
       "    <tr>\n",
       "      <th>2</th>\n",
       "      <td>3.0</td>\n",
       "      <td>1.0</td>\n",
       "      <td>3.0</td>\n",
       "      <td>0.0</td>\n",
       "      <td>1.0</td>\n",
       "      <td>35.122769</td>\n",
       "    </tr>\n",
       "    <tr>\n",
       "      <th>3</th>\n",
       "      <td>4.0</td>\n",
       "      <td>1.0</td>\n",
       "      <td>4.0</td>\n",
       "      <td>0.0</td>\n",
       "      <td>1.0</td>\n",
       "      <td>36.194918</td>\n",
       "    </tr>\n",
       "    <tr>\n",
       "      <th>4</th>\n",
       "      <td>5.0</td>\n",
       "      <td>1.0</td>\n",
       "      <td>5.0</td>\n",
       "      <td>0.0</td>\n",
       "      <td>1.0</td>\n",
       "      <td>36.482064</td>\n",
       "    </tr>\n",
       "  </tbody>\n",
       "</table>\n",
       "</div>"
      ],
      "text/plain": [
       "   dayofyear  month  dayofweek  daytype  season     Energy\n",
       "0        1.0    1.0        1.0      0.0     1.0  21.888271\n",
       "1        2.0    1.0        2.0      0.0     1.0  24.368710\n",
       "2        3.0    1.0        3.0      0.0     1.0  35.122769\n",
       "3        4.0    1.0        4.0      0.0     1.0  36.194918\n",
       "4        5.0    1.0        5.0      0.0     1.0  36.482064"
      ]
     },
     "execution_count": 8,
     "metadata": {},
     "output_type": "execute_result"
    }
   ],
   "source": [
    "monthly_data = df[['dayofyear', 'month', 'dayofweek', 'daytype', 'season']].groupby('dayofyear').mean()\n",
    "monthly_data = po.concat([monthly_data, daily_consumption], axis = 1).reset_index()\n",
    "monthly_data = monthly_data.astype(float)\n",
    "monthly_data.head()"
   ]
  },
  {
   "cell_type": "code",
   "execution_count": 9,
   "metadata": {},
   "outputs": [],
   "source": [
    "train_df = monthly_data.drop('Energy', axis = 1)[:334] #334 because we want to consider the first 11 months\n",
    "train_target = monthly_data['Energy'][:334]"
   ]
  },
  {
   "cell_type": "code",
   "execution_count": 10,
   "metadata": {},
   "outputs": [],
   "source": [
    "#I have not used a dev set for now. In general hyperparameter tuning will be done based on performance of the model on the dev set."
   ]
  },
  {
   "cell_type": "code",
   "execution_count": 11,
   "metadata": {},
   "outputs": [],
   "source": [
    "test_df = monthly_data.drop('Energy', axis = 1)[334:].reset_index(drop = True)\n",
    "test_target = monthly_data['Energy'][334:].reset_index(drop = True)"
   ]
  },
  {
   "cell_type": "code",
   "execution_count": 12,
   "metadata": {},
   "outputs": [],
   "source": [
    "input_dim = 5 #number of predictor variables (i.e. number of columns in train_df)\n",
    "num_output_cols = 1 #number of values to be predicted at each timestep\n",
    "hidden_dim = 10 #hidden dimension of the LSTM\n",
    "num_epochs =  5 \n",
    "window_size = 30 #sequence length for the LSTM (I have taken this to be 30 intutitively. In general this will be a parameter which will be tuned)\n",
    "dropout_prob = 0.2 \n",
    "batch_size = 100"
   ]
  },
  {
   "cell_type": "code",
   "execution_count": 13,
   "metadata": {},
   "outputs": [],
   "source": [
    "#making a DataLoader object\n",
    "train_data = TensorDataset(torch.tensor(train_df.to_numpy(), dtype = torch.float), torch.tensor(train_target.to_numpy(), dtype = torch.float))\n",
    "train_dataloader = DataLoader(train_data, batch_size = batch_size)"
   ]
  },
  {
   "cell_type": "code",
   "execution_count": 14,
   "metadata": {},
   "outputs": [],
   "source": [
    "model_1 = baseLSTM(input_dim, hidden_dim, num_output_cols, window_size, dropout_prob)\n",
    "loss_function = nn.MSELoss()\n",
    "optimizer = optim.Adam(model_1.parameters(), lr=0.01)"
   ]
  },
  {
   "cell_type": "code",
   "execution_count": 15,
   "metadata": {},
   "outputs": [],
   "source": [
    "#model_1.cuda() #Uncomment if GPU available"
   ]
  },
  {
   "cell_type": "code",
   "execution_count": 16,
   "metadata": {},
   "outputs": [
    {
     "name": "stdout",
     "output_type": "stream",
     "text": [
      "Training epoch 1\n",
      "Loss after 1 epochs = 99.18716430664062\n",
      "Training epoch 2\n",
      "Loss after 2 epochs = 1.7863245010375977\n",
      "Training epoch 3\n",
      "Loss after 3 epochs = 75.99308776855469\n",
      "Training epoch 4\n",
      "Loss after 4 epochs = 181.0600128173828\n",
      "Training epoch 5\n",
      "Loss after 5 epochs = 261.59686279296875\n"
     ]
    }
   ],
   "source": [
    "model_1, hidden_state, cell_state, losses = train(train_dataloader, window_size, model_1, loss_function, optimizer, num_epochs, input_dim, hidden_dim, dropout_prob)"
   ]
  },
  {
   "cell_type": "code",
   "execution_count": 17,
   "metadata": {},
   "outputs": [
    {
     "data": {
      "text/plain": [
       "[<matplotlib.lines.Line2D at 0x1a29b5f0b8>]"
      ]
     },
     "execution_count": 17,
     "metadata": {},
     "output_type": "execute_result"
    },
    {
     "data": {
      "image/png": "[encoded data removed]",
      "text/plain": [
       "<Figure size 432x288 with 1 Axes>"
      ]
     },
     "metadata": {
      "needs_background": "light"
     },
     "output_type": "display_data"
    }
   ],
   "source": [
    "plt.plot(losses)"
   ]
  },
  {
   "cell_type": "code",
   "execution_count": 18,
   "metadata": {},
   "outputs": [
    {
     "data": {
      "application/vnd.jupyter.widget-view+json": {
       "model_id": "4230eb767c3545f283218b53c62a8769",
       "version_major": 2,
       "version_minor": 0
      },
      "text/plain": [
       "HBox(children=(IntProgress(value=0, max=31), HTML(value='')))"
      ]
     },
     "metadata": {},
     "output_type": "display_data"
    },
    {
     "name": "stdout",
     "output_type": "stream",
     "text": [
      "\n",
      "MAE = 37.5826164238828\n"
     ]
    }
   ],
   "source": [
    "#Predicting Values for test set\n",
    "window_size = 5 #setting different sequence length for testing\n",
    "test_df_with_window_train = po.concat([train_df[-window_size:], test_df], axis = 0).reset_index(drop = True)\n",
    "predictions_df = po.DataFrame()\n",
    "actual_values = []\n",
    "predictions = []\n",
    "\n",
    "for i in tqdm_notebook(range(len(test_df))):\n",
    "    input_ = torch.tensor((test_df_with_window_train[i:i+window_size]).to_numpy(), dtype = torch.float).view(window_size, 1, input_dim)\n",
    "\n",
    "    prediction, (hidden_state, cell_state) = model_1(input_, hidden_state, cell_state)\n",
    "    prediction = prediction.view(1).to(device) \n",
    "    \n",
    "    actual_values.append(test_target[i])\n",
    "    predictions.append(prediction.item())\n",
    "\n",
    "predictions_df['Actual Values'] = actual_values\n",
    "predictions_df['Predictions'] = predictions    \n",
    "\n",
    "print('MAE = {}'.format(mean_squared_error(predictions_df['Actual Values'], predictions_df['Predictions'])))"
   ]
  },
  {
   "cell_type": "code",
   "execution_count": 19,
   "metadata": {},
   "outputs": [
    {
     "data": {
      "text/plain": [
       "[<matplotlib.lines.Line2D at 0x1a28060a20>]"
      ]
     },
     "execution_count": 19,
     "metadata": {},
     "output_type": "execute_result"
    },
    {
     "data": {
      "image/png": "[encoded data removed]",
      "text/plain": [
       "<Figure size 432x288 with 1 Axes>"
      ]
     },
     "metadata": {
      "needs_background": "light"
     },
     "output_type": "display_data"
    }
   ],
   "source": [
    "plt.plot(predictions_df['Predictions'])"
   ]
  },
  {
   "cell_type": "markdown",
   "metadata": {},
   "source": [
    "## Task 2\n",
    "### "
   ]
  },
  {
   "cell_type": "code",
   "execution_count": 45,
   "metadata": {},
   "outputs": [
    {
     "data": {
      "text/plain": [
       "[<matplotlib.lines.Line2D at 0x123f621d0>]"
      ]
     },
     "execution_count": 45,
     "metadata": {},
     "output_type": "execute_result"
    },
    {
     "data": {
      "image/png": "[encoded data removed]",
      "text/plain": [
       "<Figure size 432x288 with 1 Axes>"
      ]
     },
     "metadata": {
      "needs_background": "light"
     },
     "output_type": "display_data"
    }
   ],
   "source": [
    "#Plotting energy consumption for a random month (August)\n",
    "august_consumption = df[df['month'] == 8].reset_index(drop = True).groupby('dayofyear')['Energy'].sum().reset_index(drop = True)\n",
    "plt.plot(august_consumption)\n",
    "#x_axis = 'day_of_month',\n",
    "#y_axis = 'energy_consumed'"
   ]
  },
  {
   "cell_type": "code",
   "execution_count": 14,
   "metadata": {},
   "outputs": [
    {
     "data": {
      "text/plain": [
       "[<matplotlib.lines.Line2D at 0x121805a90>]"
      ]
     },
     "execution_count": 14,
     "metadata": {},
     "output_type": "execute_result"
    },
    {
     "data": {
      "image/png": "[encoded data removed]",
      "text/plain": [
       "<Figure size 432x288 with 1 Axes>"
      ]
     },
     "metadata": {
      "needs_background": "light"
     },
     "output_type": "display_data"
    }
   ],
   "source": [
    "plt.plot(df['df['Energy'])"
   ]
  },
  {
   "cell_type": "code",
   "execution_count": 12,
   "metadata": {},
   "outputs": [
    {
     "data": {
      "text/plain": [
       "0.334724    607\n",
       "0.378767    548\n",
       "0.160408    501\n",
       "0.545511    428\n",
       "0.432391    369\n",
       "0.203987    339\n",
       "0.228003    168\n",
       "0.286509    166\n",
       "0.061042    151\n",
       "0.381085    125\n",
       "0.213877    123\n",
       "0.310617    110\n",
       "0.313398    110\n",
       "0.359759    109\n",
       "0.356977    106\n",
       "0.124556    104\n",
       "0.367177    102\n",
       "0.348632    101\n",
       "0.318962    101\n",
       "0.355123    100\n",
       "0.366249     98\n",
       "0.321743     98\n",
       "0.330088     96\n",
       "0.351414     96\n",
       "0.304126     95\n",
       "0.299490     94\n",
       "0.305981     93\n",
       "0.340287     93\n",
       "0.327306     93\n",
       "0.326379     93\n",
       "           ... \n",
       "0.794622      1\n",
       "0.445874      1\n",
       "0.202133      1\n",
       "0.597184      1\n",
       "0.615786      1\n",
       "0.298633      1\n",
       "0.124556      1\n",
       "0.398586      1\n",
       "0.295260      1\n",
       "0.492988      1\n",
       "0.336868      1\n",
       "0.259890      1\n",
       "0.112656      1\n",
       "0.432390      1\n",
       "0.106321      1\n",
       "0.389488      1\n",
       "0.822439      1\n",
       "0.202678      1\n",
       "0.326691      1\n",
       "0.545435      1\n",
       "0.156236      1\n",
       "0.287731      1\n",
       "0.203987      1\n",
       "0.454103      1\n",
       "0.190658      1\n",
       "0.330610      1\n",
       "0.451244      1\n",
       "0.297838      1\n",
       "0.167295      1\n",
       "1.000000      1\n",
       "Name: Energy, Length: 4995, dtype: int64"
      ]
     },
     "execution_count": 12,
     "metadata": {},
     "output_type": "execute_result"
    }
   ],
   "source": [
    "df['Energy'].value_counts()"
   ]
  },
  {
   "cell_type": "code",
   "execution_count": 7,
   "metadata": {},
   "outputs": [
    {
     "data": {
      "text/plain": [
       "0    25056\n",
       "1     9984\n",
       "Name: daytype, dtype: int64"
      ]
     },
     "execution_count": 7,
     "metadata": {},
     "output_type": "execute_result"
    }
   ],
   "source": [
    "df['daytype'].value_counts()"
   ]
  },
  {
   "cell_type": "code",
   "execution_count": null,
   "metadata": {},
   "outputs": [],
   "source": []
  }
 ],
 "metadata": {
  "kernelspec": {
   "display_name": "Python 3",
   "language": "python",
   "name": "python3"
  },
  "language_info": {
   "codemirror_mode": {
    "name": "ipython",
    "version": 3
   },
   "file_extension": ".py",
   "mimetype": "text/x-python",
   "name": "python",
   "nbconvert_exporter": "python",
   "pygments_lexer": "ipython3",
   "version": "3.7.3"
  }
 },
 "nbformat": 4,
 "nbformat_minor": 2
}
